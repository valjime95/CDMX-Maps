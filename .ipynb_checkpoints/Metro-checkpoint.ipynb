{
 "cells": [
  {
   "cell_type": "markdown",
   "metadata": {},
   "source": [
    "# M E T R O"
   ]
  },
  {
   "cell_type": "code",
   "execution_count": 1,
   "metadata": {},
   "outputs": [],
   "source": [
    "import numpy as np\n",
    "import pandas as pd\n",
    "import seaborn as sns\n",
    "import ogr\n",
    "import networkx as nx\n",
    "import os\n",
    "import matplotlib.pyplot as plt\n",
    "import geopandas as gpd\n",
    "import json\n",
    "import lineas\n",
    "import folium\n",
    "import mplleaflet"
   ]
  },
  {
   "cell_type": "markdown",
   "metadata": {},
   "source": [
    "Para medir la distancia entre dos puntos, utilizamos la función geocalc, la cual regresa la distancia, en kilometros, de dos puntos dados en coordenadas geográficas.\n",
    "La distancia se mide para así poder darle ese peso a las aristas de la gráfica."
   ]
  },
  {
   "cell_type": "code",
   "execution_count": 2,
   "metadata": {},
   "outputs": [],
   "source": [
    "# Función para medir la distancia entre dos puntos.\n",
    "\n",
    "def geocalc(lat0, lon0, lat1, lon1):\n",
    "    EARTH_R = 6372.8\n",
    "    lat0 = np.radians(lat0)\n",
    "    lon0 = np.radians(lon0)\n",
    "    lat1 = np.radians(lat1)\n",
    "    lon1 = np.radians(lon1)\n",
    "    dlon = lon0 - lon1\n",
    "    y = np.sqrt((np.cos(lat1) * np.sin(dlon)) ** 2 +\n",
    "        (np.cos(lat0) * np.sin(lat1) - np.sin(lat0) *\n",
    "         np.cos(lat1) * np.cos(dlon)) ** 2)\n",
    "    x = np.sin(lat0) * np.sin(lat1) + \\\n",
    "        np.cos(lat0) * np.cos(lat1) * np.cos(dlon)\n",
    "    c = np.arctan2(y, x)\n",
    "    return EARTH_R * c"
   ]
  },
  {
   "cell_type": "markdown",
   "metadata": {},
   "source": [
    "Creamos una gráfica vacía y cargamos un json el cual contiene las coordenadas de cada una de las estaciones."
   ]
  },
  {
   "cell_type": "code",
   "execution_count": 3,
   "metadata": {},
   "outputs": [],
   "source": [
    "# Función que crea una gráfica a partir de un json, y le agrega los pesos a las aristas\n",
    "# devuelve la grafica y una lista con las distancias entre cada par de nodos.\n",
    "\n",
    "def grafica():\n",
    "    distancias = []\n",
    "    \n",
    "    # Creamos una gráfica \n",
    "    estaciones=nx.Graph()                      \n",
    "    aristas = json.loads(lineas.json)\n",
    "\n",
    "    for key in aristas:\n",
    "        i = 0\n",
    "        ar = aristas[key]['coordinates']\n",
    "        while i < len(ar)-1:\n",
    "            x = (ar[i][1],ar[i][2])\n",
    "            y = (ar[i+1][1],ar[i+1][2])\n",
    "            estaciones.add_edge(x,y)\n",
    "            distancias.append([x,y,geocalc(x[1], x[0], y[1], y[0])])\n",
    "            i+=1\n",
    "    \n",
    "    # Se agregan los pesos a las aristas (distancias entre cada par de nodos).\n",
    "    for v,w in estaciones.edges:\n",
    "        estaciones.edges[v,w][\"weight\"] = geocalc(v[1], v[0], w[1],w[0])\n",
    "    \n",
    "    return estaciones, distancias, aristas\n"
   ]
  },
  {
   "cell_type": "code",
   "execution_count": 4,
   "metadata": {},
   "outputs": [],
   "source": [
    "estaciones, distancias, aristas =grafica()"
   ]
  },
  {
   "cell_type": "code",
   "execution_count": 8,
   "metadata": {},
   "outputs": [],
   "source": [
    "labels = {}\n",
    "for key in aristas:\n",
    "    i = 0\n",
    "    ar = aristas[key]['coordinates']\n",
    "    while i < len(ar):\n",
    "        x = (ar[i][1],ar[i][2])\n",
    "        labels[x] = ar[i][0]\n",
    "        i+=1"
   ]
  },
  {
   "cell_type": "markdown",
   "metadata": {},
   "source": [
    "## Aplicación real"
   ]
  },
  {
   "cell_type": "markdown",
   "metadata": {},
   "source": [
    "Nos tomaremos dos estaciones de metro, para fines prácticos vamos a tomar a **Lomas Estrella** e **Insurgentes** ya que de estas dos se sabe que existen varias rutas óptimas, para después calcular **las rutas más cortas** y según varios modelos identificar cual es la  **la ruta más corta**.\n",
    "Los pesos que se le asignaron a las aristas son las distancias entre estaciones.\n",
    "\n",
    "\n",
    "Los métodos a utlizar son:\n",
    "\n",
    "* Dijkstra (con y sin peso)\n",
    "* Bellman Ford."
   ]
  },
  {
   "cell_type": "code",
   "execution_count": 9,
   "metadata": {},
   "outputs": [],
   "source": [
    "# Función para convertir los nombres de las estaciones en coordenadas, regresa las coordenadas de las estaciones de \n",
    "# inicio y final\n",
    "def translate(start,target):\n",
    "    for coord, station in labels.items():\n",
    "            \n",
    "        if station.lower() == start.lower():\n",
    "            lon0 = coord[0]\n",
    "            lat0 = coord[1] \n",
    "        if station.lower() == target.lower():\n",
    "            lon1 = coord[0]\n",
    "            lat1 = coord[1]\n",
    "            \n",
    "    return (lon0,lat0), (lon1,lat1)"
   ]
  },
  {
   "cell_type": "code",
   "execution_count": 10,
   "metadata": {},
   "outputs": [],
   "source": [
    "n1,n2 = translate(\"lomas estrella\", \"insurgentes\")"
   ]
  },
  {
   "cell_type": "code",
   "execution_count": 11,
   "metadata": {},
   "outputs": [],
   "source": [
    "# lambda para cambiar el path al nombre de las estaciones.\n",
    "translate_path= lambda path: [labels[tup] for tup in path]   # path tiene que ser una lista de tuplas"
   ]
  },
  {
   "cell_type": "code",
   "execution_count": 12,
   "metadata": {},
   "outputs": [
    {
     "name": "stdout",
     "output_type": "stream",
     "text": [
      "Se tienen 4 rutas más cortas para ir de ['Lomas Estrella'] a ['Insurgentes']\n"
     ]
    }
   ],
   "source": [
    "# calculamos los caminos más cortos.\n",
    "shortest_paths=[p for p in nx.all_shortest_paths(estaciones, n1,n2, weight = True)]\n",
    "\n",
    "print(\"Se tienen {} rutas más cortas para ir de {} a {}\".format(len(shortest_paths),\n",
    "                                                                translate_path([n1]),\n",
    "                                                                translate_path([n2]))) \n",
    "    "
   ]
  },
  {
   "cell_type": "code",
   "execution_count": 13,
   "metadata": {},
   "outputs": [
    {
     "name": "stdout",
     "output_type": "stream",
     "text": [
      "Sin embargo la ruta más corta es: ['Lomas Estrella', 'San Andrés Tomatlán', 'Culhuacan', 'Atlalilco', 'Escuadrón 201', 'Aculco', 'Apatlaco', 'Iztacalco', 'Coyuya', 'Santa Anita', 'La Viga', 'Chabacano', 'Obrera', 'Doctores', 'Salto del Agua', 'Balderas', 'Cuahtémoc', 'Insurgentes'] con 18 estaciones y 16.87105343745959 km por recorrer. \n"
     ]
    }
   ],
   "source": [
    "path = nx.shortest_path(estaciones,n1,n2) # Sin medir la distancia\n",
    "path2 = nx.shortest_path(estaciones,n1,n2, weight = True) # Midiendo la distancia\n",
    "djs_path = nx.dijkstra_path(estaciones,n1,n2) # Con Dijkstra y distancias\n",
    "bell_path = nx.bellman_ford_path(estaciones,n1,n2) # Con Bellman Ford y distancias\n",
    "djs_path_len = nx.dijkstra_path_length(estaciones, n1, n2)\n",
    "print(\"Sin embargo la ruta más corta es: {} con {} estaciones y {} km por recorrer. \".format(translate_path(djs_path),\n",
    "                                                        len(path), djs_path_len))                                                         "
   ]
  },
  {
   "cell_type": "markdown",
   "metadata": {},
   "source": [
    "###  Shortest Path\n",
    "Este contabiliza la ruta más rota de acuerdo al menor número de estaciones (nodos)."
   ]
  },
  {
   "cell_type": "code",
   "execution_count": 14,
   "metadata": {},
   "outputs": [],
   "source": [
    "def shortest_path(estaciones, n1, n2, map = True):\n",
    "    path = nx.shortest_path(estaciones,n1,n2)\n",
    "    path_len = nx.shortest_path_length(estaciones,n1,n2)\n",
    "    print(\"La ruta más corta, por el método de Shortest Path  es: {} con {} estaciones y {} km por recorrer.\".format(translate_path(path),\n",
    "                                                                                                                                         len(path), path_len))\n",
    "    if map == True:\n",
    "        mapa = folium.Map(location=[19.4284700,-99.1276600], zoom_start = 11.5,tiles='Stamen Toner')  # inicilizamos con las coordenadas de la ciudad de mexico\n",
    "        for i in range(len(path)):\n",
    "            folium.Marker([path[i][1], path[i][0]], popup=translate_path(path)[i], icon=folium.Icon(color ='darkred')).add_to(mapa)\n",
    "            \n",
    "        folium.PolyLine([(path[i][1],path[i][0]) for i in range(len(path))], color=\"darkred\", weight=2.5, opacity=1).add_to(mapa)\n",
    "        \n",
    "    return mapa\n",
    "    "
   ]
  },
  {
   "cell_type": "code",
   "execution_count": 15,
   "metadata": {},
   "outputs": [
    {
     "data": {
      "text/plain": [
       "[(-99.0976121386369, 19.3223865035373),\n",
       " (-99.1050339189064, 19.3276021253425),\n",
       " (-99.10888888888888, 19.3369444),\n",
       " (-99.1013199, 19.3561791),\n",
       " (-99.12166666666666, 19.3577778),\n",
       " (-99.1429317, 19.3619032),\n",
       " (-99.1415638, 19.369945),\n",
       " (-99.140260219574, 19.3795146127671),\n",
       " (-99.1390371, 19.3874695),\n",
       " (-99.1378087, 19.3952064),\n",
       " (-99.1368914, 19.4008785),\n",
       " (-99.1357434, 19.4084883),\n",
       " (-99.1441816, 19.4133303),\n",
       " (-99.1433448, 19.4216528),\n",
       " (-99.1422343, 19.4267827),\n",
       " (-99.149074, 19.42741),\n",
       " (-99.154653, 19.425867),\n",
       " (-99.1627908, 19.4236259)]"
      ]
     },
     "execution_count": 15,
     "metadata": {},
     "output_type": "execute_result"
    }
   ],
   "source": [
    "path"
   ]
  },
  {
   "cell_type": "code",
   "execution_count": 16,
   "metadata": {},
   "outputs": [
    {
     "name": "stdout",
     "output_type": "stream",
     "text": [
      "La ruta más corta, por el método de Shortest Path  es: ['Lomas Estrella', 'San Andrés Tomatlán', 'Culhuacan', 'Atlalilco', 'Mexicaltzingo', 'Ermita', 'Portales', 'Nativitas', 'Villa de Cortés', 'Xola', 'Viaducto', 'Chabacano', 'Obrera', 'Doctores', 'Salto del Agua', 'Balderas', 'Cuahtémoc', 'Insurgentes'] con 18 estaciones y 17 km por recorrer.\n"
     ]
    },
    {
     "data": {
      "text/html": [
       "<div style=\"width:100%;\"><div style=\"position:relative;width:100%;height:0;padding-bottom:60%;\"><iframe src=\"data:text/html;charset=utf-8;base64,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\" style=\"position:absolute;width:100%;height:100%;left:0;top:0;border:none !important;\" allowfullscreen webkitallowfullscreen mozallowfullscreen></iframe></div></div>"
      ],
      "text/plain": [
       "<folium.folium.Map at 0x120dd1550>"
      ]
     },
     "execution_count": 16,
     "metadata": {},
     "output_type": "execute_result"
    }
   ],
   "source": [
    "shortest_path(estaciones, n1, n2)"
   ]
  },
  {
   "cell_type": "markdown",
   "metadata": {},
   "source": [
    "### Dijkstra\n",
    "\n",
    "Con el algoritmo de Dijkstra se encuentra la ruta más corta dependiendo de los distancias entre estaciones y el número de estaciones."
   ]
  },
  {
   "cell_type": "code",
   "execution_count": 17,
   "metadata": {},
   "outputs": [],
   "source": [
    "def dijkstra(estaciones, n1, n2, map = True):\n",
    "    path = nx.dijkstra_path(estaciones,n1,n2)\n",
    "    path_len = nx.dijkstra_path_length(estaciones, n1, n2)\n",
    "    print(\"La ruta más corta, por el método de Dijkstra es: {} con {} estaciones y {} km por recorrer.\".format(translate_path(path),\n",
    "                                                                                                                                         len(path), path_len))\n",
    "    if map == True:\n",
    "        mapa = folium.Map(location=[19.4284700,-99.1276600], zoom_start = 11.5,tiles='Stamen Toner')  # inicilizamos con las coordenadas de la ciudad de mexico\n",
    "        for i in range(len(path)):\n",
    "            folium.Marker([path[i][1], path[i][0]], popup=translate_path(path)[i], icon=folium.Icon(color ='darkred')).add_to(mapa)\n",
    "            \n",
    "        folium.PolyLine([(path[i][1],path[i][0]) for i in range(len(path))], color=\"darkred\", weight=2.5, opacity=1).add_to(mapa)\n",
    "        \n",
    "    return mapa"
   ]
  },
  {
   "cell_type": "markdown",
   "metadata": {},
   "source": [
    "### Bellman Ford"
   ]
  },
  {
   "cell_type": "code",
   "execution_count": 18,
   "metadata": {},
   "outputs": [],
   "source": [
    "def bellman_ford(estaciones, n1, n2, map = True):\n",
    "    path = nx.bellman_ford_path(estaciones,n1,n2)\n",
    "    path_len = nx.bellman_ford_path_length(estaciones, n1, n2)\n",
    "    print(\"La ruta más corta, por el método de  Bellman Ford es: {} con {} estaciones y {} km por recorrer.\".format(translate_path(path),\n",
    "                                                                                                                                         len(path), path_len))\n",
    "    if map == True:\n",
    "        mapa = folium.Map(location=[19.4284700,-99.1276600], zoom_start = 11.5,tiles='Stamen Toner')  # inicilizamos con las coordenadas de la ciudad de mexico\n",
    "        for i in range(len(path)):\n",
    "            folium.Marker([path[i][1], path[i][0]], popup=translate_path(path)[i], icon=folium.Icon(color ='darkred')).add_to(mapa)\n",
    "            \n",
    "        folium.PolyLine([(path[i][1],path[i][0]) for i in range(len(path))], color=\"darkred\", weight=2.5, opacity=1).add_to(mapa)\n",
    "        \n",
    "    return mapa"
   ]
  },
  {
   "cell_type": "code",
   "execution_count": 19,
   "metadata": {},
   "outputs": [],
   "source": [
    "def algorithm_decision(algorithm, n1,n2, estaciones):\n",
    "    if algorithm == \"shortest path\":\n",
    "        return shortest_path(estaciones, n1, n2)\n",
    "                   \n",
    "    elif algorithm == \"dijkstra\":\n",
    "        return dijkstra(estaciones, n1, n2)\n",
    "        \n",
    "    elif algorithm == \"bellman-ford\":\n",
    "        return bellman_ford(estaciones, n1, n2)  "
   ]
  },
  {
   "cell_type": "code",
   "execution_count": 20,
   "metadata": {},
   "outputs": [],
   "source": [
    "def metro_ruta(start,target,algorithm = \"shortest path\", map = True):\n",
    "    \n",
    "    estaciones, distancias,aristas = grafica()\n",
    "    n1,n2 = translate(start, target)\n",
    "    \n",
    "    shortest_paths=[p for p in nx.all_shortest_paths(estaciones, n1,n2, weight = True)]\n",
    "\n",
    "    if len(shortest_paths) > 1:\n",
    "        print(\"Existen {} rutas más cortas para ir de {} a {}\".format(len(shortest_paths),\n",
    "                                                                      translate_path([n1]),\n",
    "                                                                      translate_path([n2])))\n",
    "        return algorithm_decision(algorithm, n1,n2,estaciones)\n",
    "    elif len(shortest_paths) == 1:\n",
    "        return algorithm_decision(algorithm, n1,n2,estaciones)\n"
   ]
  },
  {
   "cell_type": "code",
   "execution_count": 21,
   "metadata": {},
   "outputs": [
    {
     "name": "stdout",
     "output_type": "stream",
     "text": [
      "La ruta más corta, por el método de Shortest Path  es: ['San Pedro de los Pinos', 'Tacubaya', 'Juanacatlán', 'Chapultepec', 'Sevilla', 'Insurgentes'] con 6 estaciones y 5 km por recorrer.\n"
     ]
    },
    {
     "data": {
      "text/html": [
       "<div style=\"width:100%;\"><div style=\"position:relative;width:100%;height:0;padding-bottom:60%;\"><iframe src=\"data:text/html;charset=utf-8;base64,PCFET0NUWVBFIGh0bWw+CjxoZWFkPiAgICAKICAgIDxtZXRhIGh0dHAtZXF1aXY9ImNvbnRlbnQtdHlwZSIgY29udGVudD0idGV4dC9odG1sOyBjaGFyc2V0PVVURi04IiAvPgogICAgCiAgICAgICAgPHNjcmlwdD4KICAgICAgICAgICAgTF9OT19UT1VDSCA9IGZhbHNlOwogICAgICAgICAgICBMX0RJU0FCTEVfM0QgPSBmYWxzZTsKICAgICAgICA8L3NjcmlwdD4KICAgIAogICAgPHNjcmlwdCBzcmM9Imh0dHBzOi8vY2RuLmpzZGVsaXZyLm5ldC9ucG0vbGVhZmxldEAxLjUuMS9kaXN0L2xlYWZsZXQuanMiPjwvc2NyaXB0PgogICAgPHNjcmlwdCBzcmM9Imh0dHBzOi8vY29kZS5qcXVlcnkuY29tL2pxdWVyeS0xLjEyLjQubWluLmpzIj48L3NjcmlwdD4KICAgIDxzY3JpcHQgc3JjPSJodHRwczovL21heGNkbi5ib290c3RyYXBjZG4uY29tL2Jvb3RzdHJhcC8zLjIuMC9qcy9ib290c3RyYXAubWluLmpzIj48L3NjcmlwdD4KICAgIDxzY3JpcHQgc3JjPSJodHRwczovL2NkbmpzLmNsb3VkZmxhcmUuY29tL2FqYXgvbGlicy9MZWFmbGV0LmF3ZXNvbWUtbWFya2Vycy8yLjAuMi9sZWFmbGV0LmF3ZXNvbWUtbWFya2Vycy5qcyI+PC9zY3JpcHQ+CiAgICA8bGluayByZWw9InN0eWxlc2hlZXQiIGhyZWY9Imh0dHBzOi8vY2RuLmpzZGVsaXZyLm5ldC9ucG0vbGVhZmxldEAxLjUuMS9kaXN0L2xlYWZsZXQuY3NzIi8+CiAgICA8bGluayByZWw9InN0eWxlc2hlZXQiIGhyZWY9Imh0dHBzOi8vbWF4Y2RuLmJvb3RzdHJhcGNkbi5jb20vYm9vdHN0cmFwLzMuMi4wL2Nzcy9ib290c3RyYXAubWluLmNzcyIvPgogICAgPGxpbmsgcmVsPSJzdHlsZXNoZWV0IiBocmVmPSJodHRwczovL21heGNkbi5ib290c3RyYXBjZG4uY29tL2Jvb3RzdHJhcC8zLjIuMC9jc3MvYm9vdHN0cmFwLXRoZW1lLm1pbi5jc3MiLz4KICAgIDxsaW5rIHJlbD0ic3R5bGVzaGVldCIgaHJlZj0iaHR0cHM6Ly9tYXhjZG4uYm9vdHN0cmFwY2RuLmNvbS9mb250LWF3ZXNvbWUvNC42LjMvY3NzL2ZvbnQtYXdlc29tZS5taW4uY3NzIi8+CiAgICA8bGluayByZWw9InN0eWxlc2hlZXQiIGhyZWY9Imh0dHBzOi8vY2RuanMuY2xvdWRmbGFyZS5jb20vYWpheC9saWJzL0xlYWZsZXQuYXdlc29tZS1tYXJrZXJzLzIuMC4yL2xlYWZsZXQuYXdlc29tZS1tYXJrZXJzLmNzcyIvPgogICAgPGxpbmsgcmVsPSJzdHlsZXNoZWV0IiBocmVmPSJodHRwczovL3Jhd2Nkbi5naXRoYWNrLmNvbS9weXRob24tdmlzdWFsaXphdGlvbi9mb2xpdW0vbWFzdGVyL2ZvbGl1bS90ZW1wbGF0ZXMvbGVhZmxldC5hd2Vzb21lLnJvdGF0ZS5jc3MiLz4KICAgIDxzdHlsZT5odG1sLCBib2R5IHt3aWR0aDogMTAwJTtoZWlnaHQ6IDEwMCU7bWFyZ2luOiAwO3BhZGRpbmc6IDA7fTwvc3R5bGU+CiAgICA8c3R5bGU+I21hcCB7cG9zaXRpb246YWJzb2x1dGU7dG9wOjA7Ym90dG9tOjA7cmlnaHQ6MDtsZWZ0OjA7fTwvc3R5bGU+CiAgICAKICAgICAgICAgICAgPG1ldGEgbmFtZT0idmlld3BvcnQiIGNvbnRlbnQ9IndpZHRoPWRldmljZS13aWR0aCwKICAgICAgICAgICAgICAgIGluaXRpYWwtc2NhbGU9MS4wLCBtYXhpbXVtLXNjYWxlPTEuMCwgdXNlci1zY2FsYWJsZT1ubyIgLz4KICAgICAgICAgICAgPHN0eWxlPgogICAgICAgICAgICAgICAgI21hcF8zZWMxNjEzNjM4NTc0ODJhYmVmOGUxM2FiODhkODdiYyB7CiAgICAgICAgICAgICAgICAgICAgcG9zaXRpb246IHJlbGF0aXZlOwogICAgICAgICAgICAgICAgICAgIHdpZHRoOiAxMDAuMCU7CiAgICAgICAgICAgICAgICAgICAgaGVpZ2h0OiAxMDAuMCU7CiAgICAgICAgICAgICAgICAgICAgbGVmdDogMC4wJTsKICAgICAgICAgICAgICAgICAgICB0b3A6IDAuMCU7CiAgICAgICAgICAgICAgICB9CiAgICAgICAgICAgIDwvc3R5bGU+CiAgICAgICAgCjwvaGVhZD4KPGJvZHk+ICAgIAogICAgCiAgICAgICAgICAgIDxkaXYgY2xhc3M9ImZvbGl1bS1tYXAiIGlkPSJtYXBfM2VjMTYxMzYzODU3NDgyYWJlZjhlMTNhYjg4ZDg3YmMiID48L2Rpdj4KICAgICAgICAKPC9ib2R5Pgo8c2NyaXB0PiAgICAKICAgIAogICAgICAgICAgICB2YXIgbWFwXzNlYzE2MTM2Mzg1NzQ4MmFiZWY4ZTEzYWI4OGQ4N2JjID0gTC5tYXAoCiAgICAgICAgICAgICAgICAibWFwXzNlYzE2MTM2Mzg1NzQ4MmFiZWY4ZTEzYWI4OGQ4N2JjIiwKICAgICAgICAgICAgICAgIHsKICAgICAgICAgICAgICAgICAgICBjZW50ZXI6IFsxOS40Mjg0NywgLTk5LjEyNzY2XSwKICAgICAgICAgICAgICAgICAgICBjcnM6IEwuQ1JTLkVQU0czODU3LAogICAgICAgICAgICAgICAgICAgIHpvb206IDExLjUsCiAgICAgICAgICAgICAgICAgICAgem9vbUNvbnRyb2w6IHRydWUsCiAgICAgICAgICAgICAgICAgICAgcHJlZmVyQ2FudmFzOiBmYWxzZSwKICAgICAgICAgICAgICAgIH0KICAgICAgICAgICAgKTsKCiAgICAgICAgICAgIAoKICAgICAgICAKICAgIAogICAgICAgICAgICB2YXIgdGlsZV9sYXllcl8xZjQxYTg5YTcwYTQ0ZmUyODVmM2Q1NGM0N2Q3ZTA4OSA9IEwudGlsZUxheWVyKAogICAgICAgICAgICAgICAgImh0dHBzOi8vc3RhbWVuLXRpbGVzLXtzfS5hLnNzbC5mYXN0bHkubmV0L3RvbmVyL3t6fS97eH0ve3l9LnBuZyIsCiAgICAgICAgICAgICAgICB7ImF0dHJpYnV0aW9uIjogIk1hcCB0aWxlcyBieSBcdTAwM2NhIGhyZWY9XCJodHRwOi8vc3RhbWVuLmNvbVwiXHUwMDNlU3RhbWVuIERlc2lnblx1MDAzYy9hXHUwMDNlLCB1bmRlciBcdTAwM2NhIGhyZWY9XCJodHRwOi8vY3JlYXRpdmVjb21tb25zLm9yZy9saWNlbnNlcy9ieS8zLjBcIlx1MDAzZUNDIEJZIDMuMFx1MDAzYy9hXHUwMDNlLiBEYXRhIGJ5IFx1MDAyNmNvcHk7IFx1MDAzY2EgaHJlZj1cImh0dHA6Ly9vcGVuc3RyZWV0bWFwLm9yZ1wiXHUwMDNlT3BlblN0cmVldE1hcFx1MDAzYy9hXHUwMDNlLCB1bmRlciBcdTAwM2NhIGhyZWY9XCJodHRwOi8vd3d3Lm9wZW5zdHJlZXRtYXAub3JnL2NvcHlyaWdodFwiXHUwMDNlT0RiTFx1MDAzYy9hXHUwMDNlLiIsICJkZXRlY3RSZXRpbmEiOiBmYWxzZSwgIm1heE5hdGl2ZVpvb20iOiAxOCwgIm1heFpvb20iOiAxOCwgIm1pblpvb20iOiAwLCAibm9XcmFwIjogZmFsc2UsICJvcGFjaXR5IjogMSwgInN1YmRvbWFpbnMiOiAiYWJjIiwgInRtcyI6IGZhbHNlfQogICAgICAgICAgICApLmFkZFRvKG1hcF8zZWMxNjEzNjM4NTc0ODJhYmVmOGUxM2FiODhkODdiYyk7CiAgICAgICAgCiAgICAKICAgICAgICAgICAgdmFyIG1hcmtlcl80MjMxODM3NzNlZTA0NDIwOWM0YzMwMDkzYjI3MjQ4MyA9IEwubWFya2VyKAogICAgICAgICAgICAgICAgWzE5LjM5MTI3OTgsIC05OS4xODYwNTA5XSwKICAgICAgICAgICAgICAgIHt9CiAgICAgICAgICAgICkuYWRkVG8obWFwXzNlYzE2MTM2Mzg1NzQ4MmFiZWY4ZTEzYWI4OGQ4N2JjKTsKICAgICAgICAKICAgIAogICAgICAgICAgICB2YXIgaWNvbl85OWIxODc0NzliMWE0Y2E4YWMzY2M0NWJjNzAzNjgxZCA9IEwuQXdlc29tZU1hcmtlcnMuaWNvbigKICAgICAgICAgICAgICAgIHsiZXh0cmFDbGFzc2VzIjogImZhLXJvdGF0ZS0wIiwgImljb24iOiAiaW5mby1zaWduIiwgImljb25Db2xvciI6ICJ3aGl0ZSIsICJtYXJrZXJDb2xvciI6ICJkYXJrcmVkIiwgInByZWZpeCI6ICJnbHlwaGljb24ifQogICAgICAgICAgICApOwogICAgICAgICAgICBtYXJrZXJfNDIzMTgzNzczZWUwNDQyMDljNGMzMDA5M2IyNzI0ODMuc2V0SWNvbihpY29uXzk5YjE4NzQ3OWIxYTRjYThhYzNjYzQ1YmM3MDM2ODFkKTsKICAgICAgICAKICAgIAogICAgICAgIHZhciBwb3B1cF80YjI5OGU5OWYwYTQ0NzBjYmZkOGNlYjFlMzcyMWMwZiA9IEwucG9wdXAoeyJtYXhXaWR0aCI6ICIxMDAlIn0pOwoKICAgICAgICAKICAgICAgICAgICAgdmFyIGh0bWxfYTFhMGQ2ZWMwYzAwNDM2ZDg5ZjBkNTE4ZDFkNDQ0MzIgPSAkKGA8ZGl2IGlkPSJodG1sX2ExYTBkNmVjMGMwMDQzNmQ4OWYwZDUxOGQxZDQ0NDMyIiBzdHlsZT0id2lkdGg6IDEwMC4wJTsgaGVpZ2h0OiAxMDAuMCU7Ij5TYW4gUGVkcm8gZGUgbG9zIFBpbm9zPC9kaXY+YClbMF07CiAgICAgICAgICAgIHBvcHVwXzRiMjk4ZTk5ZjBhNDQ3MGNiZmQ4Y2ViMWUzNzIxYzBmLnNldENvbnRlbnQoaHRtbF9hMWEwZDZlYzBjMDA0MzZkODlmMGQ1MThkMWQ0NDQzMik7CiAgICAgICAgCgogICAgICAgIG1hcmtlcl80MjMxODM3NzNlZTA0NDIwOWM0YzMwMDkzYjI3MjQ4My5iaW5kUG9wdXAocG9wdXBfNGIyOThlOTlmMGE0NDcwY2JmZDhjZWIxZTM3MjFjMGYpCiAgICAgICAgOwoKICAgICAgICAKICAgIAogICAgCiAgICAgICAgICAgIHZhciBtYXJrZXJfMjlmYjIxMjdkMDVmNGU4YWEwZTNkMmViMWNlZTUyYzAgPSBMLm1hcmtlcigKICAgICAgICAgICAgICAgIFsxOS40MDMxNjA1LCAtOTkuMTg3MDk3XSwKICAgICAgICAgICAgICAgIHt9CiAgICAgICAgICAgICkuYWRkVG8obWFwXzNlYzE2MTM2Mzg1NzQ4MmFiZWY4ZTEzYWI4OGQ4N2JjKTsKICAgICAgICAKICAgIAogICAgICAgICAgICB2YXIgaWNvbl82NzJhYjAxY2VlNWQ0NjhmOGY5ZWUyNDc3MGY1MzcwMSA9IEwuQXdlc29tZU1hcmtlcnMuaWNvbigKICAgICAgICAgICAgICAgIHsiZXh0cmFDbGFzc2VzIjogImZhLXJvdGF0ZS0wIiwgImljb24iOiAiaW5mby1zaWduIiwgImljb25Db2xvciI6ICJ3aGl0ZSIsICJtYXJrZXJDb2xvciI6ICJkYXJrcmVkIiwgInByZWZpeCI6ICJnbHlwaGljb24ifQogICAgICAgICAgICApOwogICAgICAgICAgICBtYXJrZXJfMjlmYjIxMjdkMDVmNGU4YWEwZTNkMmViMWNlZTUyYzAuc2V0SWNvbihpY29uXzY3MmFiMDFjZWU1ZDQ2OGY4ZjllZTI0NzcwZjUzNzAxKTsKICAgICAgICAKICAgIAogICAgICAgIHZhciBwb3B1cF80MjEwYTU2Nzg5Mjg0YzNmOGMyODZiMjYzZDQwMTNiMyA9IEwucG9wdXAoeyJtYXhXaWR0aCI6ICIxMDAlIn0pOwoKICAgICAgICAKICAgICAgICAgICAgdmFyIGh0bWxfYTVmY2M0ZjY2YzU5NDI4OWJhMDNkZGJmZTQwYjU4MWQgPSAkKGA8ZGl2IGlkPSJodG1sX2E1ZmNjNGY2NmM1OTQyODliYTAzZGRiZmU0MGI1ODFkIiBzdHlsZT0id2lkdGg6IDEwMC4wJTsgaGVpZ2h0OiAxMDAuMCU7Ij5UYWN1YmF5YTwvZGl2PmApWzBdOwogICAgICAgICAgICBwb3B1cF80MjEwYTU2Nzg5Mjg0YzNmOGMyODZiMjYzZDQwMTNiMy5zZXRDb250ZW50KGh0bWxfYTVmY2M0ZjY2YzU5NDI4OWJhMDNkZGJmZTQwYjU4MWQpOwogICAgICAgIAoKICAgICAgICBtYXJrZXJfMjlmYjIxMjdkMDVmNGU4YWEwZTNkMmViMWNlZTUyYzAuYmluZFBvcHVwKHBvcHVwXzQyMTBhNTY3ODkyODRjM2Y4YzI4NmIyNjNkNDAxM2IzKQogICAgICAgIDsKCiAgICAgICAgCiAgICAKICAgIAogICAgICAgICAgICB2YXIgbWFya2VyX2Q5MjM3MGExZGVmYzRjY2ZhMDk5ZGZjYTBhOWVjZDc5ID0gTC5tYXJrZXIoCiAgICAgICAgICAgICAgICBbMTkuNDEyOTA1MywgLTk5LjE4MjE3MjRdLAogICAgICAgICAgICAgICAge30KICAgICAgICAgICAgKS5hZGRUbyhtYXBfM2VjMTYxMzYzODU3NDgyYWJlZjhlMTNhYjg4ZDg3YmMpOwogICAgICAgIAogICAgCiAgICAgICAgICAgIHZhciBpY29uX2E0NTVmZjAwMTU5OTQ3OWY5NjcxNzMzNzRiMjgwYzYyID0gTC5Bd2Vzb21lTWFya2Vycy5pY29uKAogICAgICAgICAgICAgICAgeyJleHRyYUNsYXNzZXMiOiAiZmEtcm90YXRlLTAiLCAiaWNvbiI6ICJpbmZvLXNpZ24iLCAiaWNvbkNvbG9yIjogIndoaXRlIiwgIm1hcmtlckNvbG9yIjogImRhcmtyZWQiLCAicHJlZml4IjogImdseXBoaWNvbiJ9CiAgICAgICAgICAgICk7CiAgICAgICAgICAgIG1hcmtlcl9kOTIzNzBhMWRlZmM0Y2NmYTA5OWRmY2EwYTllY2Q3OS5zZXRJY29uKGljb25fYTQ1NWZmMDAxNTk5NDc5Zjk2NzE3MzM3NGIyODBjNjIpOwogICAgICAgIAogICAgCiAgICAgICAgdmFyIHBvcHVwXzczYzkzYmEyOTJlNjQ5NTQ5YWMxNjc5NjhlNzM3MmQxID0gTC5wb3B1cCh7Im1heFdpZHRoIjogIjEwMCUifSk7CgogICAgICAgIAogICAgICAgICAgICB2YXIgaHRtbF9hNDUyMTY0YmRhN2U0ODg4OTdlOTY1M2M0ZTc4YzA1ZCA9ICQoYDxkaXYgaWQ9Imh0bWxfYTQ1MjE2NGJkYTdlNDg4ODk3ZTk2NTNjNGU3OGMwNWQiIHN0eWxlPSJ3aWR0aDogMTAwLjAlOyBoZWlnaHQ6IDEwMC4wJTsiPkp1YW5hY2F0bMOhbjwvZGl2PmApWzBdOwogICAgICAgICAgICBwb3B1cF83M2M5M2JhMjkyZTY0OTU0OWFjMTY3OTY4ZTczNzJkMS5zZXRDb250ZW50KGh0bWxfYTQ1MjE2NGJkYTdlNDg4ODk3ZTk2NTNjNGU3OGMwNWQpOwogICAgICAgIAoKICAgICAgICBtYXJrZXJfZDkyMzcwYTFkZWZjNGNjZmEwOTlkZmNhMGE5ZWNkNzkuYmluZFBvcHVwKHBvcHVwXzczYzkzYmEyOTJlNjQ5NTQ5YWMxNjc5NjhlNzM3MmQxKQogICAgICAgIDsKCiAgICAgICAgCiAgICAKICAgIAogICAgICAgICAgICB2YXIgbWFya2VyXzgyYjA4ZGVmZmFjZDQyZmY5MDA3NjcwODZhNjU4ZTAyID0gTC5tYXJrZXIoCiAgICAgICAgICAgICAgICBbMTkuNDIwODEzLCAtOTkuMTc2MjYwOF0sCiAgICAgICAgICAgICAgICB7fQogICAgICAgICAgICApLmFkZFRvKG1hcF8zZWMxNjEzNjM4NTc0ODJhYmVmOGUxM2FiODhkODdiYyk7CiAgICAgICAgCiAgICAKICAgICAgICAgICAgdmFyIGljb25fMWE1NGU1MGEyYjBhNDFjMGJkZTMzNGEwODAwOGI3ZGEgPSBMLkF3ZXNvbWVNYXJrZXJzLmljb24oCiAgICAgICAgICAgICAgICB7ImV4dHJhQ2xhc3NlcyI6ICJmYS1yb3RhdGUtMCIsICJpY29uIjogImluZm8tc2lnbiIsICJpY29uQ29sb3IiOiAid2hpdGUiLCAibWFya2VyQ29sb3IiOiAiZGFya3JlZCIsICJwcmVmaXgiOiAiZ2x5cGhpY29uIn0KICAgICAgICAgICAgKTsKICAgICAgICAgICAgbWFya2VyXzgyYjA4ZGVmZmFjZDQyZmY5MDA3NjcwODZhNjU4ZTAyLnNldEljb24oaWNvbl8xYTU0ZTUwYTJiMGE0MWMwYmRlMzM0YTA4MDA4YjdkYSk7CiAgICAgICAgCiAgICAKICAgICAgICB2YXIgcG9wdXBfOWJiYjQ4ZTlhMjc1NDljYWIzZDQ3Nzc5MmIzZWM0MzUgPSBMLnBvcHVwKHsibWF4V2lkdGgiOiAiMTAwJSJ9KTsKCiAgICAgICAgCiAgICAgICAgICAgIHZhciBodG1sXzdiNzJhMjBiMzc1MTQ1YWQ4MTkzNTJmNDAxYzI5YWY5ID0gJChgPGRpdiBpZD0iaHRtbF83YjcyYTIwYjM3NTE0NWFkODE5MzUyZjQwMWMyOWFmOSIgc3R5bGU9IndpZHRoOiAxMDAuMCU7IGhlaWdodDogMTAwLjAlOyI+Q2hhcHVsdGVwZWM8L2Rpdj5gKVswXTsKICAgICAgICAgICAgcG9wdXBfOWJiYjQ4ZTlhMjc1NDljYWIzZDQ3Nzc5MmIzZWM0MzUuc2V0Q29udGVudChodG1sXzdiNzJhMjBiMzc1MTQ1YWQ4MTkzNTJmNDAxYzI5YWY5KTsKICAgICAgICAKCiAgICAgICAgbWFya2VyXzgyYjA4ZGVmZmFjZDQyZmY5MDA3NjcwODZhNjU4ZTAyLmJpbmRQb3B1cChwb3B1cF85YmJiNDhlOWEyNzU0OWNhYjNkNDc3NzkyYjNlYzQzNSkKICAgICAgICA7CgogICAgICAgIAogICAgCiAgICAKICAgICAgICAgICAgdmFyIG1hcmtlcl8wMWViMzA4MDIxMzg0NDZkYmZjYjliYTdmN2NjNmQ3MSA9IEwubWFya2VyKAogICAgICAgICAgICAgICAgWzE5LjQyMTkyNiwgLTk5LjE3MDYwNjddLAogICAgICAgICAgICAgICAge30KICAgICAgICAgICAgKS5hZGRUbyhtYXBfM2VjMTYxMzYzODU3NDgyYWJlZjhlMTNhYjg4ZDg3YmMpOwogICAgICAgIAogICAgCiAgICAgICAgICAgIHZhciBpY29uXzc2YzMxZTcxNWRiNTRiZWZiZDIwNTEyNDI3NjBhOTE1ID0gTC5Bd2Vzb21lTWFya2Vycy5pY29uKAogICAgICAgICAgICAgICAgeyJleHRyYUNsYXNzZXMiOiAiZmEtcm90YXRlLTAiLCAiaWNvbiI6ICJpbmZvLXNpZ24iLCAiaWNvbkNvbG9yIjogIndoaXRlIiwgIm1hcmtlckNvbG9yIjogImRhcmtyZWQiLCAicHJlZml4IjogImdseXBoaWNvbiJ9CiAgICAgICAgICAgICk7CiAgICAgICAgICAgIG1hcmtlcl8wMWViMzA4MDIxMzg0NDZkYmZjYjliYTdmN2NjNmQ3MS5zZXRJY29uKGljb25fNzZjMzFlNzE1ZGI1NGJlZmJkMjA1MTI0Mjc2MGE5MTUpOwogICAgICAgIAogICAgCiAgICAgICAgdmFyIHBvcHVwX2MzOGJjZjIyYmE1ZDRkODRhMTAwMzI3YjFkMTZhMzMzID0gTC5wb3B1cCh7Im1heFdpZHRoIjogIjEwMCUifSk7CgogICAgICAgIAogICAgICAgICAgICB2YXIgaHRtbF8xNzJjZDhhMzU1MTM0NjU3YWVlYjYwYjk2ZmQwMTk3OCA9ICQoYDxkaXYgaWQ9Imh0bWxfMTcyY2Q4YTM1NTEzNDY1N2FlZWI2MGI5NmZkMDE5NzgiIHN0eWxlPSJ3aWR0aDogMTAwLjAlOyBoZWlnaHQ6IDEwMC4wJTsiPlNldmlsbGE8L2Rpdj5gKVswXTsKICAgICAgICAgICAgcG9wdXBfYzM4YmNmMjJiYTVkNGQ4NGExMDAzMjdiMWQxNmEzMzMuc2V0Q29udGVudChodG1sXzE3MmNkOGEzNTUxMzQ2NTdhZWViNjBiOTZmZDAxOTc4KTsKICAgICAgICAKCiAgICAgICAgbWFya2VyXzAxZWIzMDgwMjEzODQ0NmRiZmNiOWJhN2Y3Y2M2ZDcxLmJpbmRQb3B1cChwb3B1cF9jMzhiY2YyMmJhNWQ0ZDg0YTEwMDMyN2IxZDE2YTMzMykKICAgICAgICA7CgogICAgICAgIAogICAgCiAgICAKICAgICAgICAgICAgdmFyIG1hcmtlcl81MmQ4MzI4NmQ1ZmE0MjkzOWU0ZjE3YjZmZTE1NDQyNiA9IEwubWFya2VyKAogICAgICAgICAgICAgICAgWzE5LjQyMzYyNTksIC05OS4xNjI3OTA4XSwKICAgICAgICAgICAgICAgIHt9CiAgICAgICAgICAgICkuYWRkVG8obWFwXzNlYzE2MTM2Mzg1NzQ4MmFiZWY4ZTEzYWI4OGQ4N2JjKTsKICAgICAgICAKICAgIAogICAgICAgICAgICB2YXIgaWNvbl85ODE1NTliNTc5MDA0YmRjYmUyYzUyMjEyMjgyYzkwZCA9IEwuQXdlc29tZU1hcmtlcnMuaWNvbigKICAgICAgICAgICAgICAgIHsiZXh0cmFDbGFzc2VzIjogImZhLXJvdGF0ZS0wIiwgImljb24iOiAiaW5mby1zaWduIiwgImljb25Db2xvciI6ICJ3aGl0ZSIsICJtYXJrZXJDb2xvciI6ICJkYXJrcmVkIiwgInByZWZpeCI6ICJnbHlwaGljb24ifQogICAgICAgICAgICApOwogICAgICAgICAgICBtYXJrZXJfNTJkODMyODZkNWZhNDI5MzllNGYxN2I2ZmUxNTQ0MjYuc2V0SWNvbihpY29uXzk4MTU1OWI1NzkwMDRiZGNiZTJjNTIyMTIyODJjOTBkKTsKICAgICAgICAKICAgIAogICAgICAgIHZhciBwb3B1cF81NTc0YzJlZTU0MWM0ZjU3OGNiYTVjMjM2OGUzNGNkMyA9IEwucG9wdXAoeyJtYXhXaWR0aCI6ICIxMDAlIn0pOwoKICAgICAgICAKICAgICAgICAgICAgdmFyIGh0bWxfNWE0NDgwOWEzN2U4NDZlN2JkM2I1OTZkNTRhMzg2NGIgPSAkKGA8ZGl2IGlkPSJodG1sXzVhNDQ4MDlhMzdlODQ2ZTdiZDNiNTk2ZDU0YTM4NjRiIiBzdHlsZT0id2lkdGg6IDEwMC4wJTsgaGVpZ2h0OiAxMDAuMCU7Ij5JbnN1cmdlbnRlczwvZGl2PmApWzBdOwogICAgICAgICAgICBwb3B1cF81NTc0YzJlZTU0MWM0ZjU3OGNiYTVjMjM2OGUzNGNkMy5zZXRDb250ZW50KGh0bWxfNWE0NDgwOWEzN2U4NDZlN2JkM2I1OTZkNTRhMzg2NGIpOwogICAgICAgIAoKICAgICAgICBtYXJrZXJfNTJkODMyODZkNWZhNDI5MzllNGYxN2I2ZmUxNTQ0MjYuYmluZFBvcHVwKHBvcHVwXzU1NzRjMmVlNTQxYzRmNTc4Y2JhNWMyMzY4ZTM0Y2QzKQogICAgICAgIDsKCiAgICAgICAgCiAgICAKICAgIAogICAgICAgICAgICB2YXIgcG9seV9saW5lX2RjNWNmYTY5MDdjMzRmMjE4OGFkY2JkYTg2MGIyMDdhID0gTC5wb2x5bGluZSgKICAgICAgICAgICAgICAgIFtbMTkuMzkxMjc5OCwgLTk5LjE4NjA1MDldLCBbMTkuNDAzMTYwNSwgLTk5LjE4NzA5N10sIFsxOS40MTI5MDUzLCAtOTkuMTgyMTcyNF0sIFsxOS40MjA4MTMsIC05OS4xNzYyNjA4XSwgWzE5LjQyMTkyNiwgLTk5LjE3MDYwNjddLCBbMTkuNDIzNjI1OSwgLTk5LjE2Mjc5MDhdXSwKICAgICAgICAgICAgICAgIHsiYnViYmxpbmdNb3VzZUV2ZW50cyI6IHRydWUsICJjb2xvciI6ICJkYXJrcmVkIiwgImRhc2hBcnJheSI6IG51bGwsICJkYXNoT2Zmc2V0IjogbnVsbCwgImZpbGwiOiBmYWxzZSwgImZpbGxDb2xvciI6ICJkYXJrcmVkIiwgImZpbGxPcGFjaXR5IjogMC4yLCAiZmlsbFJ1bGUiOiAiZXZlbm9kZCIsICJsaW5lQ2FwIjogInJvdW5kIiwgImxpbmVKb2luIjogInJvdW5kIiwgIm5vQ2xpcCI6IGZhbHNlLCAib3BhY2l0eSI6IDEsICJzbW9vdGhGYWN0b3IiOiAxLjAsICJzdHJva2UiOiB0cnVlLCAid2VpZ2h0IjogMi41fQogICAgICAgICAgICApLmFkZFRvKG1hcF8zZWMxNjEzNjM4NTc0ODJhYmVmOGUxM2FiODhkODdiYyk7CiAgICAgICAgCjwvc2NyaXB0Pg==\" style=\"position:absolute;width:100%;height:100%;left:0;top:0;border:none !important;\" allowfullscreen webkitallowfullscreen mozallowfullscreen></iframe></div></div>"
      ],
      "text/plain": [
       "<folium.folium.Map at 0x120e30b90>"
      ]
     },
     "execution_count": 21,
     "metadata": {},
     "output_type": "execute_result"
    }
   ],
   "source": [
    "metro_ruta(\"San Pedro de los Pinos\",\"Insurgentes\",algorithm = \"shortest path\", map = False)"
   ]
  },
  {
   "cell_type": "code",
   "execution_count": null,
   "metadata": {},
   "outputs": [],
   "source": []
  }
 ],
 "metadata": {
  "kernelspec": {
   "display_name": "Python 3",
   "language": "python",
   "name": "python3"
  },
  "language_info": {
   "codemirror_mode": {
    "name": "ipython",
    "version": 3
   },
   "file_extension": ".py",
   "mimetype": "text/x-python",
   "name": "python",
   "nbconvert_exporter": "python",
   "pygments_lexer": "ipython3",
   "version": "3.7.4"
  }
 },
 "nbformat": 4,
 "nbformat_minor": 2
}
